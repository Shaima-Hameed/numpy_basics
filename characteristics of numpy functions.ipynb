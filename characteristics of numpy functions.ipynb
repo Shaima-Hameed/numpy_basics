{
 "cells": [
  {
   "cell_type": "markdown",
   "id": "b26aa90c",
   "metadata": {},
   "source": [
    "# characteristics of numpy functions"
   ]
  },
  {
   "cell_type": "markdown",
   "id": "14f60ced",
   "metadata": {},
   "source": [
    "## Broadcasting"
   ]
  },
  {
   "cell_type": "code",
   "execution_count": 1,
   "id": "df71f2ea",
   "metadata": {},
   "outputs": [],
   "source": [
    "import numpy as np "
   ]
  },
  {
   "cell_type": "code",
   "execution_count": 2,
   "id": "7d9fb7d4",
   "metadata": {},
   "outputs": [
    {
     "data": {
      "text/plain": [
       "array([1, 2, 3])"
      ]
     },
     "execution_count": 2,
     "metadata": {},
     "output_type": "execute_result"
    }
   ],
   "source": [
    "array_a=np.array([1,2,3])\n",
    "array_a"
   ]
  },
  {
   "cell_type": "code",
   "execution_count": 3,
   "id": "3048ee94",
   "metadata": {},
   "outputs": [
    {
     "data": {
      "text/plain": [
       "array([[1],\n",
       "       [2]])"
      ]
     },
     "execution_count": 3,
     "metadata": {},
     "output_type": "execute_result"
    }
   ],
   "source": [
    "array_b=np.array([[1],[2]])\n",
    "array_b"
   ]
  },
  {
   "cell_type": "code",
   "execution_count": 4,
   "id": "d88088c9",
   "metadata": {},
   "outputs": [
    {
     "data": {
      "text/plain": [
       "array([[1, 2, 3],\n",
       "       [4, 5, 6]])"
      ]
     },
     "execution_count": 4,
     "metadata": {},
     "output_type": "execute_result"
    }
   ],
   "source": [
    "matrix_c=np.array([[1,2,3],[4,5,6]])\n",
    "matrix_c"
   ]
  },
  {
   "cell_type": "code",
   "execution_count": 5,
   "id": "a4b9db9d",
   "metadata": {},
   "outputs": [
    {
     "data": {
      "text/plain": [
       "array([[2, 4, 6],\n",
       "       [5, 7, 9]])"
      ]
     },
     "execution_count": 5,
     "metadata": {},
     "output_type": "execute_result"
    }
   ],
   "source": [
    "np.add(array_a , matrix_c)"
   ]
  },
  {
   "cell_type": "code",
   "execution_count": 6,
   "id": "02dd2194",
   "metadata": {},
   "outputs": [
    {
     "data": {
      "text/plain": [
       "array([[2, 3, 4],\n",
       "       [6, 7, 8]])"
      ]
     },
     "execution_count": 6,
     "metadata": {},
     "output_type": "execute_result"
    }
   ],
   "source": [
    "np.add(array_b,matrix_c)"
   ]
  },
  {
   "cell_type": "markdown",
   "id": "4cbadc21",
   "metadata": {},
   "source": [
    "used when we want to conduct elementwise operations but we don't have the same shape , so we broadcast (stretch) one variable to the size of the other to produce an output with the same shape"
   ]
  },
  {
   "cell_type": "markdown",
   "id": "eec76517",
   "metadata": {},
   "source": [
    "broadcasting rules: \n",
    "1- the arrays have the same shape \n",
    "2- the arrays have the same number of dimensions, and the length of each dimension is either common or 1\n",
    "3- the arrays that have too few dimensions can have their shapes altered with a dimension 1, to satisfy the second rule. \n"
   ]
  },
  {
   "cell_type": "markdown",
   "id": "1f3d79d0",
   "metadata": {},
   "source": [
    "## Type Casting "
   ]
  },
  {
   "cell_type": "markdown",
   "id": "88255b75",
   "metadata": {},
   "source": [
    "taking every element out of an array and changing it to a specified datatype "
   ]
  },
  {
   "cell_type": "code",
   "execution_count": 7,
   "id": "56e2441e",
   "metadata": {},
   "outputs": [
    {
     "data": {
      "text/plain": [
       "array([[2., 3., 4.],\n",
       "       [6., 7., 8.]])"
      ]
     },
     "execution_count": 7,
     "metadata": {},
     "output_type": "execute_result"
    }
   ],
   "source": [
    "np.add(array_b,matrix_c, dtype=np.float64)"
   ]
  },
  {
   "cell_type": "markdown",
   "id": "dbea39a6",
   "metadata": {},
   "source": [
    "## Running over an axis"
   ]
  },
  {
   "cell_type": "markdown",
   "id": "89521969",
   "metadata": {},
   "source": [
    "1- numpy breaks down an NDarray into smaller arrays of N-1 many dimensions \n",
    "2- Applies the function to each one \n",
    "we can use this feature to run a function along each row or column. "
   ]
  },
  {
   "cell_type": "code",
   "execution_count": 8,
   "id": "18b49897",
   "metadata": {},
   "outputs": [
    {
     "data": {
      "text/plain": [
       "array([2.5, 3.5, 4.5])"
      ]
     },
     "execution_count": 8,
     "metadata": {},
     "output_type": "execute_result"
    }
   ],
   "source": [
    "np.mean(matrix_c,axis=0)"
   ]
  },
  {
   "cell_type": "markdown",
   "id": "2dc17a06",
   "metadata": {},
   "source": [
    "axis = 0: finding the mean for each column of the array"
   ]
  },
  {
   "cell_type": "markdown",
   "id": "fde955ce",
   "metadata": {},
   "source": [
    "axis= 1: finding the mean for each row of the array"
   ]
  },
  {
   "cell_type": "code",
   "execution_count": null,
   "id": "4ac48fec",
   "metadata": {},
   "outputs": [],
   "source": []
  }
 ],
 "metadata": {
  "kernelspec": {
   "display_name": "Python 3 (ipykernel)",
   "language": "python",
   "name": "python3"
  },
  "language_info": {
   "codemirror_mode": {
    "name": "ipython",
    "version": 3
   },
   "file_extension": ".py",
   "mimetype": "text/x-python",
   "name": "python",
   "nbconvert_exporter": "python",
   "pygments_lexer": "ipython3",
   "version": "3.9.13"
  }
 },
 "nbformat": 4,
 "nbformat_minor": 5
}
